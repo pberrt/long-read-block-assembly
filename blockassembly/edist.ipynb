{
 "cells": [
  {
   "cell_type": "code",
   "execution_count": 1,
   "metadata": {},
   "outputs": [],
   "source": [
    "from data.data import Unitig, Sequence, Kmer\n",
    "import pickle\n",
    "import os\n",
    "import json\n",
    "from graph.graph import add_to_dict, get_kmer_count_from_sequences, get_gt_graph, get_unitigs_bcalm, Graph, switch_index\n",
    "from data.inout import load_sequences,create_gfa_csv\n",
    "from common.utils import numseq2bytes, seq2num, compute_unitig_ref\n",
    "import numpy as np\n",
    "import matplotlib.pyplot as plt\n",
    "from sklearn.metrics import confusion_matrix, ConfusionMatrixDisplay\n",
    "\n",
    "from edist.sed import  sed\n",
    "from dtaidistance import dtw"
   ]
  },
  {
   "cell_type": "code",
   "execution_count": 2,
   "metadata": {},
   "outputs": [],
   "source": [
    "ref_file = \"../input/truth_data/GCA_027944875.1_ASM2794487v1_genomic.truth_genes.json\"\n",
    "with open(ref_file, 'r') as f:\n",
    "    ref_data = json.load(f)\n",
    "read_file = \"../input/real_data/SRR23044204_1.subset.pandora_gene_calls.json\"\n",
    "with open(read_file, 'r') as f:\n",
    "    read_data = json.load(f)\n",
    "\n",
    "blocks2reads = {}\n",
    "for k,g in read_data.items():\n",
    "    for block in g:\n",
    "        add_to_dict(blocks2reads,block[1:],k)\n",
    "for k,g in ref_data.items():\n",
    "    for block in g:\n",
    "        add_to_dict(blocks2reads,block[1:],k)\n",
    "blocks = list(blocks2reads.keys())\n",
    "blocks.sort()\n",
    "\n",
    "alphabet = [(\"+\"+p1,\"-\"+p1) for p1 in blocks]\n",
    "bi_alphabet = (alphabet,{k:((i+1)*((-1)**j)) for i, ks in enumerate(alphabet) for j, k in enumerate(ks)})\n",
    "l_alphabet = len(alphabet)\n",
    "if l_alphabet < 2**7:\n",
    "    Sequence.n_b = 1\n",
    "elif l_alphabet < 2**15:\n",
    "    Sequence.n_b = 2\n",
    "elif l_alphabet < 2**31:\n",
    "    Sequence.n_b = 4\n",
    "else:\n",
    "    Sequence.n_b = 8\n",
    "Sequence.bi_alphabet = bi_alphabet\n",
    "\n",
    "ref_seqs = [Sequence(i,numseq2bytes(seq2num(seq,Sequence.bi_alphabet),Sequence.n_b),1) for i,seq in enumerate(ref_data.values())]\n",
    "read_data_trimmed = read_data.values()\n",
    "read_seqs = [Sequence(i, numseq2bytes(seq2num(seq,Sequence.bi_alphabet), Sequence.n_b), 1) for i,seq in enumerate(read_data_trimmed)]\n"
   ]
  },
  {
   "cell_type": "code",
   "execution_count": 10,
   "metadata": {},
   "outputs": [
    {
     "data": {
      "text/plain": [
       "dtype('float64')"
      ]
     },
     "execution_count": 10,
     "metadata": {},
     "output_type": "execute_result"
    }
   ],
   "source": [
    "s1.dtype"
   ]
  },
  {
   "cell_type": "code",
   "execution_count": 8,
   "metadata": {},
   "outputs": [],
   "source": [
    "s1 = np.array([0.0, 0, 1, 2, 1, 0, 1, 0, 0])\n",
    "s2 = np.array([0.0, 1, 2, 0, 0, 0, 0, 0, 0])\n",
    "d = dtw.distance_fast(s1, s2)"
   ]
  },
  {
   "cell_type": "code",
   "execution_count": 13,
   "metadata": {},
   "outputs": [],
   "source": [
    "l = [dtw.distance_fast(ref_seqs[0].num().astype(np.float64),r.num().astype(np.float64)) for r in read_seqs]"
   ]
  },
  {
   "cell_type": "code",
   "execution_count": 23,
   "metadata": {},
   "outputs": [
    {
     "data": {
      "text/plain": [
       "13945"
      ]
     },
     "execution_count": 23,
     "metadata": {},
     "output_type": "execute_result"
    }
   ],
   "source": [
    "(np.array(l)<160000).sum()"
   ]
  },
  {
   "cell_type": "code",
   "execution_count": 20,
   "metadata": {},
   "outputs": [
    {
     "data": {
      "image/png": "[encoded data removed]",
      "text/plain": [
       "<Figure size 640x480 with 1 Axes>"
      ]
     },
     "metadata": {},
     "output_type": "display_data"
    }
   ],
   "source": [
    "plt.hist(l,bins = range(int(min(l)), int(max(l)),1000))\n",
    "plt.yscale(\"log\")"
   ]
  },
  {
   "cell_type": "code",
   "execution_count": 5,
   "metadata": {},
   "outputs": [
    {
     "data": {
      "text/plain": [
       "array([  542,   543,   544,   546,   547, -3614,  -222,   223,  1304,\n",
       "        1305,   224,   221,  1602,   462,  3613], dtype=int16)"
      ]
     },
     "execution_count": 5,
     "metadata": {},
     "output_type": "execute_result"
    }
   ],
   "source": [
    "read_seqs[0].num()"
   ]
  },
  {
   "cell_type": "code",
   "execution_count": 25,
   "metadata": {},
   "outputs": [],
   "source": [
    "from Bio import Align"
   ]
  },
  {
   "cell_type": "code",
   "execution_count": 44,
   "metadata": {},
   "outputs": [],
   "source": [
    "aligner = Align.PairwiseAligner()\n",
    "aligner = Align.PairwiseAligner()\n",
    "aligner.match_score = 5\n",
    "aligner.mismatch_score = -9\n",
    "aligner.mode = 'global'\n",
    "aligner.target_internal_open_gap_score = -12\n",
    "aligner.target_internal_extend_gap_score = -3\n",
    "aligner.target_end_open_gap_score = -12\n",
    "aligner.target_end_extend_gap_score = -3\n",
    "aligner.query_internal_open_gap_score = -12\n",
    "aligner.query_internal_extend_gap_score = -3\n",
    "\n",
    "# Set the query_end penalties to zero to effectively implement a 'glocal' alignment as described in the question\n",
    "# These are the default values, so you could skip the next two lines, \n",
    "#    but this is relevant to the question, so I'm including them in the example.\n",
    "aligner.query_end_open_gap_score = 0\n",
    "aligner.query_end_extend_gap_score = 0"
   ]
  },
  {
   "cell_type": "code",
   "execution_count": 46,
   "metadata": {},
   "outputs": [
    {
     "ename": "TypeError",
     "evalue": "sequence has unexpected type list",
     "output_type": "error",
     "traceback": [
      "\u001b[0;31m---------------------------------------------------------------------------\u001b[0m",
      "\u001b[0;31mTypeError\u001b[0m                                 Traceback (most recent call last)",
      "Cell \u001b[0;32mIn[46], line 1\u001b[0m\n\u001b[0;32m----> 1\u001b[0m alignments \u001b[38;5;241m=\u001b[39m \u001b[43maligner\u001b[49m\u001b[38;5;241;43m.\u001b[39;49m\u001b[43malign\u001b[49m\u001b[43m(\u001b[49m\u001b[43m[\u001b[49m\u001b[38;5;241;43m0\u001b[39;49m\u001b[43m,\u001b[49m\u001b[38;5;241;43m1\u001b[39;49m\u001b[43m,\u001b[49m\u001b[38;5;241;43m2\u001b[39;49m\u001b[43m]\u001b[49m\u001b[43m,\u001b[49m\u001b[43m \u001b[49m\u001b[43m[\u001b[49m\u001b[38;5;241;43m0\u001b[39;49m\u001b[43m,\u001b[49m\u001b[38;5;241;43m1\u001b[39;49m\u001b[43m,\u001b[49m\u001b[38;5;241;43m2\u001b[39;49m\u001b[43m]\u001b[49m\u001b[43m)\u001b[49m\n\u001b[1;32m      3\u001b[0m \u001b[38;5;28;01mfor\u001b[39;00m a \u001b[38;5;129;01min\u001b[39;00m alignments:\n\u001b[1;32m      4\u001b[0m     \u001b[38;5;28mprint\u001b[39m(a)\n",
      "File \u001b[0;32m~/anaconda3/envs/long_reads/lib/python3.10/site-packages/Bio/Align/__init__.py:3926\u001b[0m, in \u001b[0;36mPairwiseAligner.align\u001b[0;34m(self, seqA, seqB, strand)\u001b[0m\n\u001b[1;32m   3924\u001b[0m \u001b[38;5;28;01mif\u001b[39;00m \u001b[38;5;28misinstance\u001b[39m(seqB, (Seq, MutableSeq, SeqRecord)):\n\u001b[1;32m   3925\u001b[0m     sB \u001b[38;5;241m=\u001b[39m \u001b[38;5;28mbytes\u001b[39m(sB)\n\u001b[0;32m-> 3926\u001b[0m score, paths \u001b[38;5;241m=\u001b[39m \u001b[38;5;28;43msuper\u001b[39;49m\u001b[43m(\u001b[49m\u001b[43m)\u001b[49m\u001b[38;5;241;43m.\u001b[39;49m\u001b[43malign\u001b[49m\u001b[43m(\u001b[49m\u001b[43msA\u001b[49m\u001b[43m,\u001b[49m\u001b[43m \u001b[49m\u001b[43msB\u001b[49m\u001b[43m,\u001b[49m\u001b[43m \u001b[49m\u001b[43mstrand\u001b[49m\u001b[43m)\u001b[49m\n\u001b[1;32m   3927\u001b[0m alignments \u001b[38;5;241m=\u001b[39m PairwiseAlignments(seqA, seqB, score, paths)\n\u001b[1;32m   3928\u001b[0m \u001b[38;5;28;01mreturn\u001b[39;00m alignments\n",
      "\u001b[0;31mTypeError\u001b[0m: sequence has unexpected type list"
     ]
    }
   ],
   "source": [
    "alignments = aligner.align([0,1,2], [0,1,2])\n",
    "\n",
    "for a in alignments:\n",
    "    print(a)\n",
    "print()\n",
    "print()"
   ]
  },
  {
   "cell_type": "code",
   "execution_count": 43,
   "metadata": {},
   "outputs": [
    {
     "data": {
      "text/plain": [
       "30.0"
      ]
     },
     "execution_count": 43,
     "metadata": {},
     "output_type": "execute_result"
    }
   ],
   "source": [
    "alignments.score"
   ]
  },
  {
   "cell_type": "code",
   "execution_count": null,
   "metadata": {},
   "outputs": [],
   "source": []
  }
 ],
 "metadata": {
  "kernelspec": {
   "display_name": "long_reads",
   "language": "python",
   "name": "python3"
  },
  "language_info": {
   "codemirror_mode": {
    "name": "ipython",
    "version": 3
   },
   "file_extension": ".py",
   "mimetype": "text/x-python",
   "name": "python",
   "nbconvert_exporter": "python",
   "pygments_lexer": "ipython3",
   "version": "3.10.13"
  }
 },
 "nbformat": 4,
 "nbformat_minor": 2
}
